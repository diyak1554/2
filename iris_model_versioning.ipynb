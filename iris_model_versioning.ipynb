{
 "cells": [
  {
   "cell_type": "code",
   "execution_count": 1,
   "metadata": {},
   "outputs": [],
   "source": [
    "# Import required libraries\n",
    "from sklearn.datasets import load_iris\n",
    "from sklearn.model_selection import train_test_split\n",
    "from sklearn.preprocessing import StandardScaler\n",
    "\n",
    "# Load the Iris dataset\n",
    "iris = load_iris()\n",
    "X, y = iris.data, iris.target\n",
    "\n",
    "# Split into training and testing datasets\n",
    "X_train, X_test, y_train, y_test = train_test_split(X, y, test_size=0.2, random_state=42)\n",
    "\n",
    "# Standardize the features\n",
    "scaler = StandardScaler()\n",
    "X_train = scaler.fit_transform(X_train)\n",
    "X_test = scaler.transform(X_test)\n"
   ]
  },
  {
   "cell_type": "code",
   "execution_count": 2,
   "metadata": {},
   "outputs": [
    {
     "name": "stdout",
     "output_type": "stream",
     "text": [
      "Model v1 Accuracy: 1.0000\n"
     ]
    }
   ],
   "source": [
    "from sklearn.ensemble import RandomForestClassifier\n",
    "from sklearn.metrics import accuracy_score\n",
    "\n",
    "# Train model v1 with default parameters\n",
    "model_v1 = RandomForestClassifier(n_estimators=50, random_state=42)\n",
    "model_v1.fit(X_train, y_train)\n",
    "\n",
    "# Evaluate model v1\n",
    "y_pred_v1 = model_v1.predict(X_test)\n",
    "accuracy_v1 = accuracy_score(y_test, y_pred_v1)\n",
    "\n",
    "print(f\"Model v1 Accuracy: {accuracy_v1:.4f}\")"
   ]
  },
  {
   "cell_type": "code",
   "execution_count": 3,
   "metadata": {},
   "outputs": [
    {
     "name": "stdout",
     "output_type": "stream",
     "text": [
      "Model v2 Accuracy: 1.0000\n"
     ]
    }
   ],
   "source": [
    "# Train model v2 with hyperparameter tuning\n",
    "model_v2 = RandomForestClassifier(n_estimators=100, max_depth=5, random_state=42)\n",
    "model_v2.fit(X_train, y_train)\n",
    "\n",
    "# Evaluate model v2\n",
    "y_pred_v2 = model_v2.predict(X_test)\n",
    "accuracy_v2 = accuracy_score(y_test, y_pred_v2)\n",
    "\n",
    "print(f\"Model v2 Accuracy: {accuracy_v2:.4f}\")\n"
   ]
  },
  {
   "cell_type": "code",
   "execution_count": 4,
   "metadata": {},
   "outputs": [
    {
     "name": "stdout",
     "output_type": "stream",
     "text": [
      "Model v1 Accuracy: 1.0000\n",
      "Model v2 Accuracy: 1.0000\n"
     ]
    }
   ],
   "source": [
    "# Compare both models\n",
    "results = {\n",
    "    \"Model v1\": accuracy_v1,\n",
    "    \"Model v2\": accuracy_v2\n",
    "}\n",
    "\n",
    "for version, acc in results.items():\n",
    "    print(f\"{version} Accuracy: {acc:.4f}\")\n"
   ]
  },
  {
   "cell_type": "code",
   "execution_count": 5,
   "metadata": {},
   "outputs": [
    {
     "name": "stdout",
     "output_type": "stream",
     "text": [
      "Models and scaler saved successfully.\n"
     ]
    }
   ],
   "source": [
    "import joblib\n",
    "\n",
    "# Save each model with meaningful version names\n",
    "joblib.dump(model_v1, \"model_v1.pkl\")\n",
    "joblib.dump(model_v2, \"model_v2.pkl\")\n",
    "\n",
    "# Save the scaler (optional but useful for real deployment)\n",
    "joblib.dump(scaler, \"scaler.pkl\")\n",
    "\n",
    "print(\"Models and scaler saved successfully.\")\n"
   ]
  }
 ],
 "metadata": {
  "kernelspec": {
   "display_name": "venv",
   "language": "python",
   "name": "python3"
  },
  "language_info": {
   "codemirror_mode": {
    "name": "ipython",
    "version": 3
   },
   "file_extension": ".py",
   "mimetype": "text/x-python",
   "name": "python",
   "nbconvert_exporter": "python",
   "pygments_lexer": "ipython3",
   "version": "3.13.2"
  }
 },
 "nbformat": 4,
 "nbformat_minor": 2
}
